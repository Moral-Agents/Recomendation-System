{
  "nbformat": 4,
  "nbformat_minor": 0,
  "metadata": {
    "colab": {
      "provenance": [],
      "collapsed_sections": []
    },
    "kernelspec": {
      "name": "python3",
      "display_name": "Python 3"
    },
    "language_info": {
      "name": "python"
    }
  },
  "cells": [
    {
      "cell_type": "code",
      "source": [
        "import numpy as np\n",
        "from operator import itemgetter\n",
        "from sklearn.neighbors import KNeighborsClassifier\n",
        "import matplotlib.pyplot as plt\n",
        "import json"
      ],
      "metadata": {
        "id": "3R9-IH2-QPTN"
      },
      "execution_count": null,
      "outputs": []
    },
    {
      "cell_type": "code",
      "source": [
        "with open('/content/drive/MyDrive/docs/movie_data.json', 'r+', encoding='utf-8') as f:\n",
        "    data = json.load(f)\n",
        "with open('/content/drive/MyDrive/docs/movie_titles.json', 'r+', encoding='utf-8') as f:\n",
        "    movie_titles = json.load(f)"
      ],
      "metadata": {
        "id": "bDeL0XFUYSmH"
      },
      "execution_count": null,
      "outputs": []
    },
    {
      "cell_type": "code",
      "source": [
        "print(len(movie_titles))\n",
        "for i in range(5):\n",
        "  print(movie_titles[i])\n",
        "  print(data[i],\"\\n\")"
      ],
      "metadata": {
        "colab": {
          "base_uri": "https://localhost:8080/"
        },
        "id": "TSPQ8bVLYwO_",
        "outputId": "02a68f73-858c-4434-eb90-482e65d4eaa1"
      },
      "execution_count": null,
      "outputs": [
        {
          "output_type": "stream",
          "name": "stdout",
          "text": [
            "5043\n",
            "['Avatar', 0, 'http://www.imdb.com/title/tt0499549/?ref_=fn_tt_tt_1']\n",
            "[1, 1, 0, 0, 0, 0, 0, 0, 0, 1, 0, 0, 0, 0, 0, 0, 0, 0, 0, 0, 1, 0, 0, 0, 0, 0, 7.9] \n",
            "\n",
            "[\"Pirates of the Caribbean: At World's End\", 1, 'http://www.imdb.com/title/tt0449088/?ref_=fn_tt_tt_1']\n",
            "[1, 1, 0, 0, 0, 0, 0, 0, 0, 1, 0, 0, 0, 0, 0, 0, 0, 0, 0, 0, 0, 0, 0, 0, 0, 0, 7.1] \n",
            "\n",
            "['Spectre', 2, 'http://www.imdb.com/title/tt2379713/?ref_=fn_tt_tt_1']\n",
            "[1, 1, 0, 0, 0, 0, 0, 0, 0, 0, 0, 0, 0, 0, 0, 0, 0, 0, 0, 0, 0, 0, 0, 1, 0, 0, 6.8] \n",
            "\n",
            "['The Dark Knight Rises', 3, 'http://www.imdb.com/title/tt1345836/?ref_=fn_tt_tt_1']\n",
            "[1, 0, 0, 0, 0, 0, 0, 0, 0, 0, 0, 0, 0, 0, 0, 0, 0, 0, 0, 0, 0, 0, 0, 1, 0, 0, 8.5] \n",
            "\n",
            "['Star Wars: Episode VII - The Force Awakens', 4, 'http://www.imdb.com/title/tt5289954/?ref_=fn_tt_tt_1']\n",
            "[0, 0, 0, 0, 0, 0, 1, 0, 0, 0, 0, 0, 0, 0, 0, 0, 0, 0, 0, 0, 0, 0, 0, 0, 0, 0, 7.1] \n",
            "\n"
          ]
        }
      ]
    },
    {
      "cell_type": "code",
      "source": [
        "class KNearestNeighbours:\n",
        "    def __init__(self, data, target, test_point, k):\n",
        "        self.data = data\n",
        "        self.target = target\n",
        "        self.test_point = test_point\n",
        "        self.k = k\n",
        "        self.distances = list()\n",
        "        self.categories = list()\n",
        "        self.indices = list()\n",
        "        self.counts = list()\n",
        "        self.category_assigned = None\n",
        "\n",
        "    @staticmethod\n",
        "    def dist(p1, p2):\n",
        "        \"\"\"Method returns the euclidean distance between two points\"\"\"\n",
        "        return np.linalg.norm(np.array(p1) - np.array(p2))\n",
        "\n",
        "    def fit(self):\n",
        "        \"\"\"Method that performs the KNN classification\"\"\"\n",
        "        # Create a list of (distance, index) tuples from the test point to each point in the data\n",
        "        self.distances.extend([(self.dist(self.test_point, point), i) for point, i in zip(self.data, [i for i in range(len(self.data))])])\n",
        "        # Sort the distances in ascending order\n",
        "        sorted_li = sorted(self.distances, key=itemgetter(0))\n",
        "        # Fetch the indices of the k nearest point from the data\n",
        "        self.indices.extend([index for (val, index) in sorted_li[:self.k]])\n",
        "        # Fetch the categories from the train data target\n",
        "        for i in self.indices:\n",
        "            self.categories.append(self.target[i])\n",
        "        # Fetch the count for each category from the K nearest neighbours\n",
        "        self.counts.extend([(i, self.categories.count(i)) for i in set(self.categories)])\n",
        "        # Find the highest repeated category among the K nearest neighbours\n",
        "        self.category_assigned = sorted(self.counts, key=itemgetter(1), reverse=True)[0][0]"
      ],
      "metadata": {
        "id": "XWKa_3S3SnqA"
      },
      "execution_count": null,
      "outputs": []
    },
    {
      "cell_type": "code",
      "source": [
        "def KNN_Movie_Recommender(test_point, k):\n",
        "    # Create dummy target variable for the KNN Classifier\n",
        "    target = [0 for item in movie_titles]\n",
        "    # Instantiate object for the Classifier\n",
        "    model = KNearestNeighbours(data, target, test_point, k=k)\n",
        "    # Run the algorithm\n",
        "    model.fit()\n",
        "    # Print list of 10 recommendations < Change value of k for a different number >\n",
        "    table = []\n",
        "    for i in model.indices:\n",
        "        # Returns back movie title and imdb link\n",
        "        table.append([movie_titles[i][0], movie_titles[i][2],data[i][-1]])\n",
        "    #print(table)\n",
        "    return table"
      ],
      "metadata": {
        "id": "jsbWY7DGbbAn"
      },
      "execution_count": null,
      "outputs": []
    },
    {
      "cell_type": "code",
      "source": [
        "select_movie = input()\n",
        "movies = [title[0] for title in movie_titles]\n",
        "genres = data[movies.index(select_movie)]\n",
        "\n",
        "KNN_Movie_Recommender(genres, 5)"
      ],
      "metadata": {
        "colab": {
          "base_uri": "https://localhost:8080/"
        },
        "id": "blj_19K8bbLG",
        "outputId": "1fcc5104-1d13-4e4d-d96b-f0122ff95e4d"
      },
      "execution_count": null,
      "outputs": [
        {
          "name": "stdout",
          "output_type": "stream",
          "text": [
            "Avatar\n"
          ]
        },
        {
          "output_type": "execute_result",
          "data": {
            "text/plain": [
              "[['Avatar', 'http://www.imdb.com/title/tt0499549/?ref_=fn_tt_tt_1', 7.9],\n",
              " ['Destiny', 'http://www.imdb.com/title/tt2983582/?ref_=fn_tt_tt_1', 8.1],\n",
              " ['Star Wars: Episode III - Revenge of the Sith',\n",
              "  'http://www.imdb.com/title/tt0121766/?ref_=fn_tt_tt_1',\n",
              "  7.6],\n",
              " ['Star Wars: Episode VI - Return of the Jedi',\n",
              "  'http://www.imdb.com/title/tt0086190/?ref_=fn_tt_tt_1',\n",
              "  8.4],\n",
              " ['Man of Steel', 'http://www.imdb.com/title/tt0770828/?ref_=fn_tt_tt_1', 7.2]]"
            ]
          },
          "metadata": {},
          "execution_count": 42
        }
      ]
    }
  ]
}